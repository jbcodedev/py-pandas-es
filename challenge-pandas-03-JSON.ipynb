{
 "cells": [
  {
   "cell_type": "markdown",
   "metadata": {},
   "source": [
    "# <font color=green> **Challenge Pandas 02 : Normalizar el JSON obtenido de la API**"
   ]
  },
  {
   "cell_type": "markdown",
   "metadata": {},
   "source": [
    "El DataFrame que se muestra a continuación se generó después de obtener los datos de la API de Fruitvice"
   ]
  },
  {
   "cell_type": "markdown",
   "metadata": {},
   "source": [
    "<table><thead><tr><th><strong>index</strong></th><th><strong>genus</strong></th><th><strong>name</strong></th><th><strong>id</strong></th><th><strong>family</strong></th><th><strong>order</strong></th><th><strong>nutritions</strong></th></tr></thead><tbody><tr><td>0</td><td>Malus</td><td>Apple</td><td>6</td><td>Rosaceae</td><td>Rosales</td><td>{'carbohydrates': 11.4, 'protein': 0.3, 'fat': 0.4, 'calories': 52, 'sugar': 10.3}</td></tr><tr><td>1</td><td>Prunus</td><td>Apricot</td><td>35</td><td>Rosaceae</td><td>Rosales</td><td>{'carbohydrates': 3.9, 'protein': 0.5, 'fat': 0.1, 'calories': 15, 'sugar': 3.2}</td></tr><tr><td>2</td><td>Persea</td><td>Avocado</td><td>84</td><td>Lauraceae</td><td>Laurales</td><td>{'carbohydrates': 8.53, 'protein': 2, 'fat': 14.66, 'calories': 160, 'sugar': 0.66}</td></tr><tr><td>3</td><td>Musa</td><td>Banana</td><td>1</td><td>Musaceae</td><td>Zingiberales</td><td>{'carbohydrates': 22, 'protein': 1, 'fat': 0.2, 'calories': 96, 'sugar': 17.2}</td></tr><tr><td>4</td><td>Rubus</td><td>Blackberry\t64</td><td>Rosaceae</td><td>Rosales</td><td>{'carbohydrates': 9, 'protein': 1.3, 'fat': 0.4, 'calories': 40, 'sugar': 4.5}</td><td></td></tr><tr><td>5</td><td>Fragaria</td><td>Blueberry</td><td>33</td><td>Rosaceae</td><td>Rosales</td><td>{'carbohydrates': 5.5, 'protein': 0, 'fat': 0.4, 'calories': 29, 'sugar': 5.4}</td></tr><tr><td>6</td><td>Prunus</td><td>Cherry</td><td>9</td><td>Rosaceae</td><td>Rosales</td><td>{'carbohydrates': 12, 'protein': 1, 'fat': 0.3, 'calories': 50, 'sugar': 8}</td></tr></tbody></table>"
   ]
  },
  {
   "cell_type": "markdown",
   "metadata": {},
   "source": [
    "Este DataFrame tiene 6 columnas: genus (género), name (nombre), id, family (familia), order (orden) e nutritions (nutriciones). Observe que la columna nutritions tiene toda la información nutricional anidada en ella. Por tanto, es necesario normalizar los datos.\n",
    "\n",
    "El desafío ahora es normalizar este DataFrame."
   ]
  }
 ],
 "metadata": {
  "language_info": {
   "name": "python"
  }
 },
 "nbformat": 4,
 "nbformat_minor": 2
}
