{
 "cells": [
  {
   "cell_type": "markdown",
   "metadata": {},
   "source": [
    "# <font color=green> **Challenge Pandas 01 : leyendo datos con múltiples parámetros**"
   ]
  },
  {
   "cell_type": "markdown",
   "metadata": {},
   "source": [
    "El archivo `datos_sus.csv` contiene los gastos hospitalarios públicos de cada una de las Unidades de la Federación Brasileña desde enero de 2008 hasta marzo de 2021.\n",
    "\n",
    "Su desafío aquí será leer este archivo usando la función read_csv de la biblioteca Pandas. Se deben agregar algunos parámetros para que la lectura se realice correctamente. Entonces, aquí hay algunos consejos:\n",
    "\n",
    "- Asegúrese de que el archivo CSV esté separado por una coma o punto y coma.\n",
    "- La codificación del archivo es ISO-8859-1.\n",
    "- Las primeras tres líneas del archivo se pueden ignorar, ya que el encabezado sólo comienza en la cuarta línea.\n",
    "- Las últimas 9 líneas también se pueden ignorar, ya que son sólo información sobre dónde se tomaron los datos.\n",
    "- Para eliminar las últimas líneas es necesario agregar el parámetro engine='python'."
   ]
  }
 ],
 "metadata": {
  "kernelspec": {
   "display_name": "env",
   "language": "python",
   "name": "python3"
  },
  "language_info": {
   "name": "python",
   "version": "3.13.0"
  }
 },
 "nbformat": 4,
 "nbformat_minor": 2
}
