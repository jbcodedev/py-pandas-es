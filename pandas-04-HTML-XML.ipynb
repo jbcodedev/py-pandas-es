{
 "cells": [
  {
   "cell_type": "markdown",
   "metadata": {},
   "source": [
    "## <font color=green> **04 - Leyendo páginas en HTML e XML**"
   ]
  },
  {
   "cell_type": "markdown",
   "metadata": {},
   "source": [
    "### <font color=green> **Importando páginas web**"
   ]
  },
  {
   "cell_type": "code",
   "execution_count": 1,
   "metadata": {},
   "outputs": [],
   "source": [
    "# Importacion de Pandas\n",
    "\n",
    "import pandas as pd"
   ]
  },
  {
   "cell_type": "code",
   "execution_count": null,
   "metadata": {},
   "outputs": [],
   "source": [
    "# Guardando los datos de lectura por Pandas en una variable datos_html\n",
    "\n",
    "datos_html = pd.read_html('data\\\\peliculas_wikipedia.html')"
   ]
  },
  {
   "cell_type": "code",
   "execution_count": 4,
   "metadata": {},
   "outputs": [
    {
     "data": {
      "text/plain": [
       "[       0                      1\n",
       " 0   1998             100 Movies\n",
       " 1   1999              100 Stars\n",
       " 2   2000             100 Laughs\n",
       " 3   2001            100 Thrills\n",
       " 4   2002           100 Passions\n",
       " 5   2003  100 Heroes & Villains\n",
       " 6   2004              100 Songs\n",
       " 7   2005       100 Movie Quotes\n",
       " 8   2005              25 Scores\n",
       " 9   2006             100 Cheers\n",
       " 10  2006            25 Musicals\n",
       " 11  2007   100 Movies (Updated)\n",
       " 12  2008        AFI's 10 Top 10\n",
       " 13   vte                    vte,\n",
       "                             Film  Release year              Director  \\\n",
       " 0                   Citizen Kane          1941          Orson Welles   \n",
       " 1                     Casablanca          1942        Michael Curtiz   \n",
       " 2                  The Godfather          1972  Francis Ford Coppola   \n",
       " 3             Gone with the Wind          1939        Victor Fleming   \n",
       " 4             Lawrence of Arabia          1962            David Lean   \n",
       " ..                           ...           ...                   ...   \n",
       " 95                 The Searchers          1956             John Ford   \n",
       " 96              Bringing Up Baby          1938          Howard Hawks   \n",
       " 97                    Unforgiven          1992        Clint Eastwood   \n",
       " 98  Guess Who's Coming to Dinner          1967        Stanley Kramer   \n",
       " 99           Yankee Doodle Dandy          1942        Michael Curtiz   \n",
       " \n",
       "                       Production companies  Rank  \n",
       " 0                       RKO Radio Pictures     1  \n",
       " 1                    Warner Bros. Pictures     2  \n",
       " 2   Paramount Pictures, Alfran Productions     3  \n",
       " 3          Selznick International Pictures     4  \n",
       " 4                         Horizon Pictures     5  \n",
       " ..                                     ...   ...  \n",
       " 95                  C. V. Whitney Pictures    96  \n",
       " 96                      RKO Radio Pictures    97  \n",
       " 97                     The Malpaso Company    98  \n",
       " 98                       Columbia Pictures    99  \n",
       " 99                   Warner Bros. Pictures   100  \n",
       " \n",
       " [100 rows x 5 columns],\n",
       "           hidevteAFI's 100 Years...100 Movies (1998)  \\\n",
       " 0  Citizen Kane (1941) Casablanca (1942) The Godf...   \n",
       " \n",
       "         hidevteAFI's 100 Years...100 Movies (1998).1  \n",
       " 0  Citizen Kane (1941) Casablanca (1942) The Godf...  ]"
      ]
     },
     "execution_count": 4,
     "metadata": {},
     "output_type": "execute_result"
    }
   ],
   "source": [
    "# Visualizando contenido de variable datos_html\n",
    "# Se visualiza todo el contenido de las tablas\n",
    "\n",
    "datos_html"
   ]
  },
  {
   "cell_type": "code",
   "execution_count": 5,
   "metadata": {},
   "outputs": [
    {
     "data": {
      "text/plain": [
       "list"
      ]
     },
     "execution_count": 5,
     "metadata": {},
     "output_type": "execute_result"
    }
   ],
   "source": [
    "# Visualizando el tipo del resultado\n",
    "\n",
    "type(datos_html)"
   ]
  },
  {
   "cell_type": "code",
   "execution_count": 6,
   "metadata": {},
   "outputs": [
    {
     "data": {
      "text/plain": [
       "3"
      ]
     },
     "execution_count": 6,
     "metadata": {},
     "output_type": "execute_result"
    }
   ],
   "source": [
    "# Visualizando la longitud del resultado\n",
    "\n",
    "len(datos_html)"
   ]
  },
  {
   "cell_type": "code",
   "execution_count": 8,
   "metadata": {},
   "outputs": [
    {
     "data": {
      "text/html": [
       "<div>\n",
       "<style scoped>\n",
       "    .dataframe tbody tr th:only-of-type {\n",
       "        vertical-align: middle;\n",
       "    }\n",
       "\n",
       "    .dataframe tbody tr th {\n",
       "        vertical-align: top;\n",
       "    }\n",
       "\n",
       "    .dataframe thead th {\n",
       "        text-align: right;\n",
       "    }\n",
       "</style>\n",
       "<table border=\"1\" class=\"dataframe\">\n",
       "  <thead>\n",
       "    <tr style=\"text-align: right;\">\n",
       "      <th></th>\n",
       "      <th>Film</th>\n",
       "      <th>Release year</th>\n",
       "      <th>Director</th>\n",
       "      <th>Production companies</th>\n",
       "      <th>Rank</th>\n",
       "    </tr>\n",
       "  </thead>\n",
       "  <tbody>\n",
       "    <tr>\n",
       "      <th>0</th>\n",
       "      <td>Citizen Kane</td>\n",
       "      <td>1941</td>\n",
       "      <td>Orson Welles</td>\n",
       "      <td>RKO Radio Pictures</td>\n",
       "      <td>1</td>\n",
       "    </tr>\n",
       "    <tr>\n",
       "      <th>1</th>\n",
       "      <td>Casablanca</td>\n",
       "      <td>1942</td>\n",
       "      <td>Michael Curtiz</td>\n",
       "      <td>Warner Bros. Pictures</td>\n",
       "      <td>2</td>\n",
       "    </tr>\n",
       "    <tr>\n",
       "      <th>2</th>\n",
       "      <td>The Godfather</td>\n",
       "      <td>1972</td>\n",
       "      <td>Francis Ford Coppola</td>\n",
       "      <td>Paramount Pictures, Alfran Productions</td>\n",
       "      <td>3</td>\n",
       "    </tr>\n",
       "    <tr>\n",
       "      <th>3</th>\n",
       "      <td>Gone with the Wind</td>\n",
       "      <td>1939</td>\n",
       "      <td>Victor Fleming</td>\n",
       "      <td>Selznick International Pictures</td>\n",
       "      <td>4</td>\n",
       "    </tr>\n",
       "    <tr>\n",
       "      <th>4</th>\n",
       "      <td>Lawrence of Arabia</td>\n",
       "      <td>1962</td>\n",
       "      <td>David Lean</td>\n",
       "      <td>Horizon Pictures</td>\n",
       "      <td>5</td>\n",
       "    </tr>\n",
       "    <tr>\n",
       "      <th>...</th>\n",
       "      <td>...</td>\n",
       "      <td>...</td>\n",
       "      <td>...</td>\n",
       "      <td>...</td>\n",
       "      <td>...</td>\n",
       "    </tr>\n",
       "    <tr>\n",
       "      <th>95</th>\n",
       "      <td>The Searchers</td>\n",
       "      <td>1956</td>\n",
       "      <td>John Ford</td>\n",
       "      <td>C. V. Whitney Pictures</td>\n",
       "      <td>96</td>\n",
       "    </tr>\n",
       "    <tr>\n",
       "      <th>96</th>\n",
       "      <td>Bringing Up Baby</td>\n",
       "      <td>1938</td>\n",
       "      <td>Howard Hawks</td>\n",
       "      <td>RKO Radio Pictures</td>\n",
       "      <td>97</td>\n",
       "    </tr>\n",
       "    <tr>\n",
       "      <th>97</th>\n",
       "      <td>Unforgiven</td>\n",
       "      <td>1992</td>\n",
       "      <td>Clint Eastwood</td>\n",
       "      <td>The Malpaso Company</td>\n",
       "      <td>98</td>\n",
       "    </tr>\n",
       "    <tr>\n",
       "      <th>98</th>\n",
       "      <td>Guess Who's Coming to Dinner</td>\n",
       "      <td>1967</td>\n",
       "      <td>Stanley Kramer</td>\n",
       "      <td>Columbia Pictures</td>\n",
       "      <td>99</td>\n",
       "    </tr>\n",
       "    <tr>\n",
       "      <th>99</th>\n",
       "      <td>Yankee Doodle Dandy</td>\n",
       "      <td>1942</td>\n",
       "      <td>Michael Curtiz</td>\n",
       "      <td>Warner Bros. Pictures</td>\n",
       "      <td>100</td>\n",
       "    </tr>\n",
       "  </tbody>\n",
       "</table>\n",
       "<p>100 rows × 5 columns</p>\n",
       "</div>"
      ],
      "text/plain": [
       "                            Film  Release year              Director  \\\n",
       "0                   Citizen Kane          1941          Orson Welles   \n",
       "1                     Casablanca          1942        Michael Curtiz   \n",
       "2                  The Godfather          1972  Francis Ford Coppola   \n",
       "3             Gone with the Wind          1939        Victor Fleming   \n",
       "4             Lawrence of Arabia          1962            David Lean   \n",
       "..                           ...           ...                   ...   \n",
       "95                 The Searchers          1956             John Ford   \n",
       "96              Bringing Up Baby          1938          Howard Hawks   \n",
       "97                    Unforgiven          1992        Clint Eastwood   \n",
       "98  Guess Who's Coming to Dinner          1967        Stanley Kramer   \n",
       "99           Yankee Doodle Dandy          1942        Michael Curtiz   \n",
       "\n",
       "                      Production companies  Rank  \n",
       "0                       RKO Radio Pictures     1  \n",
       "1                    Warner Bros. Pictures     2  \n",
       "2   Paramount Pictures, Alfran Productions     3  \n",
       "3          Selznick International Pictures     4  \n",
       "4                         Horizon Pictures     5  \n",
       "..                                     ...   ...  \n",
       "95                  C. V. Whitney Pictures    96  \n",
       "96                      RKO Radio Pictures    97  \n",
       "97                     The Malpaso Company    98  \n",
       "98                       Columbia Pictures    99  \n",
       "99                   Warner Bros. Pictures   100  \n",
       "\n",
       "[100 rows x 5 columns]"
      ]
     },
     "execution_count": 8,
     "metadata": {},
     "output_type": "execute_result"
    }
   ],
   "source": [
    "# Visualizando la tabla html que ocupa la segunda posicion\n",
    "\n",
    "top_peliculas = datos_html[1]\n",
    "top_peliculas"
   ]
  },
  {
   "cell_type": "markdown",
   "metadata": {},
   "source": [
    "### <font color=green> **Escribiendo archivos HTML**"
   ]
  },
  {
   "cell_type": "code",
   "execution_count": null,
   "metadata": {},
   "outputs": [],
   "source": [
    "# Invocando al metodo to_html al Dataframe\n",
    "\n",
    "# top_peliculas.to_html('top_peliculas.html', index=False)"
   ]
  },
  {
   "cell_type": "code",
   "execution_count": null,
   "metadata": {},
   "outputs": [],
   "source": [
    "# Leyendo archivo exportado\n",
    "\n",
    "# pd.read_html('top_peliculas.html')"
   ]
  },
  {
   "cell_type": "code",
   "execution_count": null,
   "metadata": {},
   "outputs": [],
   "source": [
    "# Exportando archivo HTML a CSV\n",
    "\n",
    "# top_peliculas.to_csv('top_peliculas_1998.csv', index=False)"
   ]
  },
  {
   "cell_type": "code",
   "execution_count": null,
   "metadata": {},
   "outputs": [],
   "source": [
    "# Leyendo datos del dataframe guardado en formato CSV\n",
    "\n",
    "# datos = pd.read_csv('top_peliculas_1998.csv')\n",
    "# datos.head()"
   ]
  },
  {
   "cell_type": "markdown",
   "metadata": {},
   "source": [
    "### <font color=green> **Leyendo/Escribiendo archivos XML**"
   ]
  },
  {
   "cell_type": "code",
   "execution_count": 9,
   "metadata": {},
   "outputs": [],
   "source": [
    "import pandas as pd"
   ]
  },
  {
   "cell_type": "code",
   "execution_count": 10,
   "metadata": {},
   "outputs": [],
   "source": [
    "# Guardando en variable la lectura de Pandas del archivo XML\n",
    "\n",
    "datos_imdb = pd.read_xml('data\\\\imdb_top_1000.xml')"
   ]
  },
  {
   "cell_type": "code",
   "execution_count": 11,
   "metadata": {},
   "outputs": [
    {
     "data": {
      "text/html": [
       "<div>\n",
       "<style scoped>\n",
       "    .dataframe tbody tr th:only-of-type {\n",
       "        vertical-align: middle;\n",
       "    }\n",
       "\n",
       "    .dataframe tbody tr th {\n",
       "        vertical-align: top;\n",
       "    }\n",
       "\n",
       "    .dataframe thead th {\n",
       "        text-align: right;\n",
       "    }\n",
       "</style>\n",
       "<table border=\"1\" class=\"dataframe\">\n",
       "  <thead>\n",
       "    <tr style=\"text-align: right;\">\n",
       "      <th></th>\n",
       "      <th>index</th>\n",
       "      <th>Poster_Link</th>\n",
       "      <th>Series_Title</th>\n",
       "      <th>Released_Year</th>\n",
       "      <th>Certificate</th>\n",
       "      <th>Runtime</th>\n",
       "      <th>Genre</th>\n",
       "      <th>IMDB_Rating</th>\n",
       "      <th>Overview</th>\n",
       "      <th>Meta_score</th>\n",
       "      <th>Director</th>\n",
       "      <th>Star1</th>\n",
       "      <th>Star2</th>\n",
       "      <th>Star3</th>\n",
       "      <th>Star4</th>\n",
       "      <th>No_of_Votes</th>\n",
       "      <th>Gross</th>\n",
       "    </tr>\n",
       "  </thead>\n",
       "  <tbody>\n",
       "    <tr>\n",
       "      <th>0</th>\n",
       "      <td>0</td>\n",
       "      <td>https://m.media-amazon.com/images/M/MV5BMDFkYT...</td>\n",
       "      <td>The Shawshank Redemption</td>\n",
       "      <td>1994</td>\n",
       "      <td>A</td>\n",
       "      <td>142 min</td>\n",
       "      <td>Drama</td>\n",
       "      <td>9.3</td>\n",
       "      <td>Two imprisoned men bond over a number of years...</td>\n",
       "      <td>80.0</td>\n",
       "      <td>Frank Darabont</td>\n",
       "      <td>Tim Robbins</td>\n",
       "      <td>Morgan Freeman</td>\n",
       "      <td>Bob Gunton</td>\n",
       "      <td>William Sadler</td>\n",
       "      <td>2343110</td>\n",
       "      <td>28,341,469</td>\n",
       "    </tr>\n",
       "    <tr>\n",
       "      <th>1</th>\n",
       "      <td>1</td>\n",
       "      <td>https://m.media-amazon.com/images/M/MV5BM2MyNj...</td>\n",
       "      <td>The Godfather</td>\n",
       "      <td>1972</td>\n",
       "      <td>A</td>\n",
       "      <td>175 min</td>\n",
       "      <td>Crime, Drama</td>\n",
       "      <td>9.2</td>\n",
       "      <td>An organized crime dynasty's aging patriarch t...</td>\n",
       "      <td>100.0</td>\n",
       "      <td>Francis Ford Coppola</td>\n",
       "      <td>Marlon Brando</td>\n",
       "      <td>Al Pacino</td>\n",
       "      <td>James Caan</td>\n",
       "      <td>Diane Keaton</td>\n",
       "      <td>1620367</td>\n",
       "      <td>134,966,411</td>\n",
       "    </tr>\n",
       "    <tr>\n",
       "      <th>2</th>\n",
       "      <td>2</td>\n",
       "      <td>https://m.media-amazon.com/images/M/MV5BMTMxNT...</td>\n",
       "      <td>The Dark Knight</td>\n",
       "      <td>2008</td>\n",
       "      <td>UA</td>\n",
       "      <td>152 min</td>\n",
       "      <td>Action, Crime, Drama</td>\n",
       "      <td>9.0</td>\n",
       "      <td>When the menace known as the Joker wreaks havo...</td>\n",
       "      <td>84.0</td>\n",
       "      <td>Christopher Nolan</td>\n",
       "      <td>Christian Bale</td>\n",
       "      <td>Heath Ledger</td>\n",
       "      <td>Aaron Eckhart</td>\n",
       "      <td>Michael Caine</td>\n",
       "      <td>2303232</td>\n",
       "      <td>534,858,444</td>\n",
       "    </tr>\n",
       "  </tbody>\n",
       "</table>\n",
       "</div>"
      ],
      "text/plain": [
       "   index                                        Poster_Link  \\\n",
       "0      0  https://m.media-amazon.com/images/M/MV5BMDFkYT...   \n",
       "1      1  https://m.media-amazon.com/images/M/MV5BM2MyNj...   \n",
       "2      2  https://m.media-amazon.com/images/M/MV5BMTMxNT...   \n",
       "\n",
       "               Series_Title Released_Year Certificate  Runtime  \\\n",
       "0  The Shawshank Redemption          1994           A  142 min   \n",
       "1             The Godfather          1972           A  175 min   \n",
       "2           The Dark Knight          2008          UA  152 min   \n",
       "\n",
       "                  Genre  IMDB_Rating  \\\n",
       "0                 Drama          9.3   \n",
       "1          Crime, Drama          9.2   \n",
       "2  Action, Crime, Drama          9.0   \n",
       "\n",
       "                                            Overview  Meta_score  \\\n",
       "0  Two imprisoned men bond over a number of years...        80.0   \n",
       "1  An organized crime dynasty's aging patriarch t...       100.0   \n",
       "2  When the menace known as the Joker wreaks havo...        84.0   \n",
       "\n",
       "               Director           Star1           Star2          Star3  \\\n",
       "0        Frank Darabont     Tim Robbins  Morgan Freeman     Bob Gunton   \n",
       "1  Francis Ford Coppola   Marlon Brando       Al Pacino     James Caan   \n",
       "2     Christopher Nolan  Christian Bale    Heath Ledger  Aaron Eckhart   \n",
       "\n",
       "            Star4  No_of_Votes        Gross  \n",
       "0  William Sadler      2343110   28,341,469  \n",
       "1    Diane Keaton      1620367  134,966,411  \n",
       "2   Michael Caine      2303232  534,858,444  "
      ]
     },
     "execution_count": 11,
     "metadata": {},
     "output_type": "execute_result"
    }
   ],
   "source": [
    "# Visualizando las 3 primeras filas del Dataframe\n",
    "\n",
    "datos_imdb.head(3)"
   ]
  },
  {
   "cell_type": "code",
   "execution_count": null,
   "metadata": {},
   "outputs": [],
   "source": [
    "# Guardando en un archivo XML el Dataframe\n",
    "\n",
    "# datos_imdb.to_xml('peliculas_imdb.xml')"
   ]
  }
 ],
 "metadata": {
  "kernelspec": {
   "display_name": "env",
   "language": "python",
   "name": "python3"
  },
  "language_info": {
   "codemirror_mode": {
    "name": "ipython",
    "version": 3
   },
   "file_extension": ".py",
   "mimetype": "text/x-python",
   "name": "python",
   "nbconvert_exporter": "python",
   "pygments_lexer": "ipython3",
   "version": "3.13.0"
  }
 },
 "nbformat": 4,
 "nbformat_minor": 2
}
