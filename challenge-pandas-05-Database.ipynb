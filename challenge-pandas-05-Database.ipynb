{
 "cells": [
  {
   "cell_type": "markdown",
   "metadata": {},
   "source": [
    "# <font color=green> **Challenge Pandas 05 : Manipulando una base de datos**"
   ]
  },
  {
   "cell_type": "markdown",
   "metadata": {},
   "source": [
    "Usted es responsable de crear una base de datos local de clientes para una institución financiera. Disponemos del archivo CSV `clientes_banco.csv` con los datos de los clientes.\n",
    "\n",
    "Tu misión es:"
   ]
  },
  {
   "cell_type": "markdown",
   "metadata": {},
   "source": [
    "01 - Crear la base de datos local con la biblioteca SQLAlchemy."
   ]
  },
  {
   "cell_type": "markdown",
   "metadata": {},
   "source": [
    "02 - Escribir los datos del archivo CSV en esta base de datos local."
   ]
  },
  {
   "cell_type": "markdown",
   "metadata": {},
   "source": [
    "03 - Realizar tres actualizaciones en la base de datos:"
   ]
  },
  {
   "cell_type": "markdown",
   "metadata": {},
   "source": [
    "- Actualizar el registro del cliente ID 6840104 cuyo rendimiento anual cambió a 300000."
   ]
  },
  {
   "cell_type": "markdown",
   "metadata": {},
   "source": [
    "- Eliminar el registro de cliente ID 5008809, ya que esta persona ya no tiene cuenta en la institución financiera."
   ]
  },
  {
   "cell_type": "markdown",
   "metadata": {},
   "source": [
    "- Crear un nuevo registro de cliente siguiendo las especificaciones a continuación:\n",
    "\n",
    "    - ID_cliente: 6850985\n",
    "    - Edad: 33\n",
    "    - Grado_estudio: Doctorado\n",
    "    - Estado_civil: Soltero\n",
    "    - Tamaño_familia: 1\n",
    "    - Categoria_de_renta: Empleado\n",
    "    - Ocupacion: TI\n",
    "    - Años_empleado: 2\n",
    "    - Rendimiento_anual: 290000\n",
    "    - Tiene_carro: 0\n",
    "    - Vivienda: Casa/Departamento propio\n",
    "\n",
    "Consejo importante: Para agregar un nuevo cliente a la tabla, use la cláusula INSERT INTO seguida del nombre de la tabla y luego especifique los nombres de las columnas de la tabla entre paréntesis. Utilice la cláusula VALUES y luego pase entre paréntesis los nuevos valores para este nuevo registro. Asegúrese de que los valores estén en el orden correcto y en el formato adecuado para cada columna."
   ]
  }
 ],
 "metadata": {
  "kernelspec": {
   "display_name": "env",
   "language": "python",
   "name": "python3"
  },
  "language_info": {
   "name": "python",
   "version": "3.13.0"
  }
 },
 "nbformat": 4,
 "nbformat_minor": 2
}
